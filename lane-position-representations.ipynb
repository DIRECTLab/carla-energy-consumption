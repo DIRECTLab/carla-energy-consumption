{
 "cells": [
  {
   "cell_type": "markdown",
   "metadata": {},
   "source": [
    "# Vehicle Lane Positioning in CARLA"
   ]
  },
  {
   "cell_type": "code",
   "execution_count": 1,
   "metadata": {},
   "outputs": [],
   "source": [
    "import carla\n",
    "import random"
   ]
  },
  {
   "cell_type": "code",
   "execution_count": 2,
   "metadata": {},
   "outputs": [],
   "source": [
    "client = carla.Client('localhost', 2000)\n",
    "world = client.get_world()\n",
    "map = world.get_map()\n",
    "tm = client.get_trafficmanager()"
   ]
  },
  {
   "cell_type": "code",
   "execution_count": 3,
   "metadata": {},
   "outputs": [],
   "source": [
    "vehicle_bps = world.get_blueprint_library().filter('*vehicle*')\n",
    "spawn_points = map.get_spawn_points()\n",
    "spectator = world.get_spectator()"
   ]
  },
  {
   "cell_type": "markdown",
   "metadata": {},
   "source": [
    "## Measuring Vehicle and Lane Dimensions"
   ]
  },
  {
   "cell_type": "markdown",
   "metadata": {},
   "source": [
    "Create vehicle"
   ]
  },
  {
   "cell_type": "code",
   "execution_count": 4,
   "metadata": {},
   "outputs": [],
   "source": [
    "ego_vehicle = world.spawn_actor(random.choice(vehicle_bps), random.choice(spawn_points))"
   ]
  },
  {
   "cell_type": "markdown",
   "metadata": {},
   "source": [
    "Move spectator camera behind the vehicle"
   ]
  },
  {
   "cell_type": "code",
   "execution_count": 5,
   "metadata": {},
   "outputs": [],
   "source": [
    "spectator_transform = ego_vehicle.get_transform()\n",
    "spectator_transform.location += -8 * ego_vehicle.get_transform().get_forward_vector()\n",
    "spectator_transform.location.z += 3\n",
    "spectator_transform.rotation.pitch = -15\n",
    "spectator.set_transform(spectator_transform)"
   ]
  },
  {
   "cell_type": "markdown",
   "metadata": {},
   "source": [
    "Get details about vehicle location, width, and width of the lane it is in"
   ]
  },
  {
   "cell_type": "code",
   "execution_count": 6,
   "metadata": {},
   "outputs": [
    {
     "name": "stdout",
     "output_type": "stream",
     "text": [
      "Location(x=-18.385923, y=130.210068, z=0.590864)\n",
      "Vector3D(x=2.305503, y=1.120857, z=0.833638)\n"
     ]
    },
    {
     "data": {
      "text/plain": [
       "2.241713285446167"
      ]
     },
     "execution_count": 6,
     "metadata": {},
     "output_type": "execute_result"
    }
   ],
   "source": [
    "print(ego_vehicle.get_location())\n",
    "print(ego_vehicle.bounding_box.extent)\n",
    "ego_vehicle_width = ego_vehicle.bounding_box.extent.y * 2\n",
    "ego_vehicle_width"
   ]
  },
  {
   "cell_type": "code",
   "execution_count": 7,
   "metadata": {},
   "outputs": [
    {
     "data": {
      "text/plain": [
       "3.5"
      ]
     },
     "execution_count": 7,
     "metadata": {},
     "output_type": "execute_result"
    }
   ],
   "source": [
    "ego_vehicle_waypoint = map.get_waypoint(ego_vehicle.get_location())\n",
    "ego_vehicle_waypoint.lane_width"
   ]
  },
  {
   "cell_type": "markdown",
   "metadata": {},
   "source": [
    "Draw the vehicle bounding box and then use the vehicle width and lane width to draw a larger bounding box around the vehicle that fills the whole lane width."
   ]
  },
  {
   "cell_type": "code",
   "execution_count": 8,
   "metadata": {},
   "outputs": [],
   "source": [
    "# Draw the bounding box of the ego vehicle\n",
    "transform = ego_vehicle.get_transform()\n",
    "bounding_box = ego_vehicle.bounding_box\n",
    "bounding_box.location += transform.location\n",
    "world.debug.draw_box(bounding_box, transform.rotation, 0.1, carla.Color(32, 0, 0, 0), 15)\n",
    "\n",
    "# Draw the expanded bounding box of the ego vehicle out to the edges of the lane (expand y axis of the bounding box)\n",
    "remaining_lane_width = ego_vehicle_waypoint.lane_width - ego_vehicle_width\n",
    "bounding_box.extent.y += remaining_lane_width / 2 # Extend to the edges of the lane\n",
    "bounding_box.extent.x += 0.3 # For better visualization\n",
    "bounding_box.extent.z += 0.3 # For better visualization\n",
    "bounding_box.location.z += 0.3 # For better visualization\n",
    "world.debug.draw_box(bounding_box, transform.rotation, 0.1, carla.Color(0, 32, 0, 0), 15)"
   ]
  },
  {
   "cell_type": "markdown",
   "metadata": {},
   "source": [
    "Determine how exactly the lane offset impacts the vehicle's position in the world"
   ]
  },
  {
   "cell_type": "code",
   "execution_count": 9,
   "metadata": {},
   "outputs": [],
   "source": [
    "ego_vehicle.set_autopilot(True)"
   ]
  },
  {
   "cell_type": "code",
   "execution_count": 10,
   "metadata": {},
   "outputs": [
    {
     "name": "stdout",
     "output_type": "stream",
     "text": [
      "Location(x=-18.385923, y=130.210068, z=0.422425)\n"
     ]
    }
   ],
   "source": [
    "print(ego_vehicle.get_location())"
   ]
  },
  {
   "cell_type": "code",
   "execution_count": 11,
   "metadata": {},
   "outputs": [],
   "source": [
    "tm.vehicle_lane_offset(ego_vehicle, -1.75)"
   ]
  },
  {
   "cell_type": "code",
   "execution_count": 12,
   "metadata": {},
   "outputs": [
    {
     "name": "stdout",
     "output_type": "stream",
     "text": [
      "Location(x=-18.385923, y=130.210068, z=0.307803)\n"
     ]
    }
   ],
   "source": [
    "print(ego_vehicle.get_location())"
   ]
  },
  {
   "cell_type": "markdown",
   "metadata": {},
   "source": [
    "**Conclusion:** The lane offset is in meters, not some percentage of the lane width. Setting this to + or - the width of a lane will move the car to the center of the adjacent lane (though it will throw off the planning algorithm). Setting it to + or - half the lane with will make the car drive right on the road line."
   ]
  },
  {
   "cell_type": "markdown",
   "metadata": {},
   "source": [
    "## Normalized Lane-and-Vehicle-Width-Independent Representation of Lane Positions"
   ]
  },
  {
   "cell_type": "markdown",
   "metadata": {},
   "source": [
    "Normalized lane-and-vehcile-width-independent positions represent a vehicle's position in a lane proportionally to the empty space on both sides of a vehicle within the lane it is travelling in. This normalized lane offset value expresses this in terms of 1/2 of the lane width, excluding the width of the vehicle in the lane `(0.5 * (lane_width - vehicle_width))`, with the sign indicating if the vehicle is offset towards the left or right line of the lane. This describes a vehicle lane position in a lane-and-vehicle-width-independent way, where the values of 1 and -1 represent the vehicle driving with its right and left edge/side against the right and left road line, respectively, and 0 represents the vehicle driving in the center of the lane.\n",
    "\n",
    "The utility of this representation comes in that it describes the position within a lane that a driver drives in relative to the available space in the lane, which varies based on the size of the vehicle, according to typical driving behavior that tries to always stay in their lane. (Ex. a semi truck will generally stay centered as they often do not have much horizontal space in a lane to manuver within, compared to a sedan). Using a lane-size-independent representation that does not account for the width of the vehicle (ex. normalized vehicle center offset) can result in unintended overlap into adjacent lanes if applying such an offset to a vehicle with a width other than the vehicle width used as reference when determining the offset (whether arbitrary or recorded from actual data). The lane-and-vehicle-width-independent representation of lane offsets is therefore more general, though it does give up a bit of direct control over certain aspects without extra computation, compared to absolute or center-based offsets that do not adjust based on vehicle width. Aspects such as defining a specific number of meters of overlap into adjacent lanes, which would be better served by absolute offsets, is one such example where this representation is not the best choice. For the charging efficiency based on lane position for wireless charging in-road, this representation is more appropriate as it describes the vehicle's position in the lane relative to the available space in the lane, mirroring typical driving behavior.\n",
    "\n",
    "Accurately simulating a real power consumption of wireless chargers is also dependent on simulating accurately the distribution of vehicle types on the road, as the width of a vehicle does have impact on where a driver drives in a lane as larger vehicles have less space in a lane as they take up more of it. This is generally applicable regardless of the lane offset representation type used. For this representation, it helps reduce variability. This representation is also more useful in simulation environments where a vehicle may travel through lanes of different widths.\n",
    "\n",
    "### Interpreting Lane Position Values:\n",
    "\n",
    "- 0: Vehicle is in center of the lane\n",
    "- -1: Vehicle drives with its left edge/side against the left road line\n",
    "- 1: Vehicle drives with its right edge/side against the right road line\n",
    "- Values greater than or smaller than -1 or 1 indicate that the vehicle is overlapping/encroaching into the adjacent lane.\n",
    "- Values between 1 and -1, excluding 0, indicate that the vehicle is driving in the lane but not in the center.\n"
   ]
  },
  {
   "cell_type": "code",
   "execution_count": 13,
   "metadata": {},
   "outputs": [],
   "source": [
    "def lane_position_to_center_offset_meters(offset_normalized: float, vehicle):\n",
    "    waypoint = map.get_waypoint(vehicle.get_location())\n",
    "\n",
    "    half_lane_width = waypoint.lane_width / 2\n",
    "    half_vehicle_width = vehicle.bounding_box.extent.y\n",
    "    half_open_lane_space = half_lane_width - half_vehicle_width\n",
    "    \n",
    "    if half_open_lane_space <= 0:\n",
    "        # Normalized lane-and-vehicle-width-independent-offset representation is not\n",
    "        # intended to model lane positioning of oversize vehicles that are wider than or as wide as the lane width.\n",
    "        # For our purposes, we are assuming that oversize vehicles will attempt to remain as centered\n",
    "        # in the lane as possible.\n",
    "        return 0\n",
    "    \n",
    "    # Sign is only for determining left or right lane offset. Computation must use the absolute value.\n",
    "    normalized_offset_abs = abs(offset_normalized)\n",
    "    \n",
    "    # Convert normalized lane offset to vehicle center offset in meters\n",
    "    carla_offset_meters = half_lane_width - (half_open_lane_space - normalized_offset_abs * half_open_lane_space) - half_vehicle_width\n",
    "    \n",
    "    # Carry over the original sign so that we have a CARLA vehicle_line_offset value    \n",
    "    return carla_offset_meters if offset_normalized >= 0 else -carla_offset_meters"
   ]
  },
  {
   "cell_type": "code",
   "execution_count": 14,
   "metadata": {},
   "outputs": [],
   "source": [
    "def center_offset_meters_to_lane_position(offset_meters: float, vehicle):\n",
    "    waypoint = map.get_waypoint(vehicle.get_location())\n",
    "\n",
    "    half_lane_width = waypoint.lane_width / 2\n",
    "    half_vehicle_width = vehicle.bounding_box.extent.y\n",
    "    half_open_lane_space = half_lane_width - half_vehicle_width\n",
    "    \n",
    "    if half_open_lane_space <= 0:\n",
    "        # Normalized lane-and-vehicle-width-independent-offset representation is not\n",
    "        # intended to model lane positioning of oversize vehicles that are wider than or as wide as the lane width.\n",
    "        # For our purposes, we are assuming that oversize vehicles will attempt to remain as centered\n",
    "        # in the lane as possible.\n",
    "        return 0\n",
    "    \n",
    "    # Sign is only for determining left or right lane offset. Computation must use the absolute value.\n",
    "    offset_meters_abs = abs(offset_meters)\n",
    "    \n",
    "    # Convert vehicle center offset in meters to normalized lane offset\n",
    "    normalized_offset = (offset_meters_abs + half_vehicle_width + half_open_lane_space - half_lane_width) / half_open_lane_space\n",
    "    \n",
    "    # Carry over the original sign so that we have a normalized lane offset value\n",
    "    return normalized_offset if offset_meters >= 0 else -normalized_offset"
   ]
  },
  {
   "cell_type": "code",
   "execution_count": 15,
   "metadata": {},
   "outputs": [
    {
     "name": "stdout",
     "output_type": "stream",
     "text": [
      "-0.39006888151168817\n",
      "-0.6199999999999996\n"
     ]
    }
   ],
   "source": [
    "lane_offset = lane_position_to_center_offset_meters(-0.62, ego_vehicle)\n",
    "print(lane_offset)\n",
    "print(center_offset_meters_to_lane_position(lane_offset, ego_vehicle))\n",
    "tm.vehicle_lane_offset(ego_vehicle, lane_offset)"
   ]
  },
  {
   "cell_type": "markdown",
   "metadata": {},
   "source": [
    "This lane position representation is what we are using to model and implement vehicle lane position for our wireless charging efficiency simulation in CARLA."
   ]
  },
  {
   "cell_type": "markdown",
   "metadata": {},
   "source": [
    "## CARLA Clean-Up"
   ]
  },
  {
   "cell_type": "markdown",
   "metadata": {},
   "source": [
    "Destroy all vehicles"
   ]
  },
  {
   "cell_type": "code",
   "execution_count": 16,
   "metadata": {},
   "outputs": [],
   "source": [
    "for vehicle in world.get_actors().filter('*vehicle*'):\n",
    "    vehicle.destroy()"
   ]
  }
 ],
 "metadata": {
  "kernelspec": {
   "display_name": "Python 3",
   "language": "python",
   "name": "python3"
  },
  "language_info": {
   "codemirror_mode": {
    "name": "ipython",
    "version": 3
   },
   "file_extension": ".py",
   "mimetype": "text/x-python",
   "name": "python",
   "nbconvert_exporter": "python",
   "pygments_lexer": "ipython3",
   "version": "3.8.10"
  }
 },
 "nbformat": 4,
 "nbformat_minor": 2
}
